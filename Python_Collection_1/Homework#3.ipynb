{
 "cells": [
  {
   "cell_type": "code",
   "execution_count": 1,
   "metadata": {},
   "outputs": [
    {
     "name": "stdout",
     "output_type": "stream",
     "text": [
      "[['Thailand', 24.05], ['Germany', 13.91], ['Russia', 3.74], ['Poland', 12.1]]\n"
     ]
    }
   ],
   "source": [
    "countries_temperature = [\n",
    "    ['Thailand', [75.2, 77, 78.8, 73.4, 68, 75.2, 77]],\n",
    "    ['Germany', [57.2, 55.4, 59, 59, 53.6]],\n",
    "    ['Russia', [35.6, 37.4, 39.2, 41, 42.8, 39.2, 35.6]],\n",
    "    ['Poland', [50, 50, 53.6, 57.2, 55.4, 55.4]]]\n",
    " \n",
    "celsius_temperature = list(map(lambda x: [x[0], round((sum(x[1])/len(x[1]) - 32) * 0.56, 2)], countries_temperature))\n",
    " \n",
    "print(celsius_temperature)"
   ]
  },
  {
   "cell_type": "code",
   "execution_count": 2,
   "metadata": {},
   "outputs": [
    {
     "name": "stdout",
     "output_type": "stream",
     "text": [
      "Введите слово: питон\n",
      "т\n"
     ]
    }
   ],
   "source": [
    "text = input(\"Введите слово: \")\n",
    "middle_letter = int(len(text)//2)\n",
    "two_middle_letter = int(len(text)//2-1)\n",
    "if len(text) % 2!=0:\n",
    "    print(text[middle_letter])\n",
    "elif len(text) % 2==0:\n",
    "    print(text[two_middle_letter]+text[two_middle_letter+1])\n"
   ]
  },
  {
   "cell_type": "code",
   "execution_count": 3,
   "metadata": {},
   "outputs": [
    {
     "name": "stdout",
     "output_type": "stream",
     "text": [
      "Идеальные пары: \n",
      "Peter и Kate\n",
      "Alex и Liza\n",
      "John и Kira\n",
      "Arthur и Emma\n",
      "Richard и Trisha\n"
     ]
    }
   ],
   "source": [
    "boys = ['Peter', 'Alex', 'John', 'Arthur', 'Richard']\n",
    "girls = ['Kate', 'Liza', 'Kira', 'Emma', 'Trisha']\n",
    "\n",
    "pairs = zip (boys, girls)\n",
    "if len(boys) == len(girls):\n",
    "    print ('Идеальные пары: ')\n",
    "    for boys, girls in pairs:\n",
    "        print (boys, str('и'), girls)\n",
    "else:\n",
    "    print ('Кто-то остался без пары')"
   ]
  },
  {
   "cell_type": "code",
   "execution_count": 4,
   "metadata": {},
   "outputs": [
    {
     "name": "stdout",
     "output_type": "stream",
     "text": [
      "Введите число 1\n",
      "Введите еще одно число 2\n",
      "Введите еще одно число 3\n",
      "Введите еще одно число 0\n",
      "6\n"
     ]
    }
   ],
   "source": [
    "a = int(input('Введите число '))\n",
    "sum = 0 \n",
    "while a !=0: \n",
    "    sum = sum + a \n",
    "    a = int (input('Введите еще одно число '))\n",
    "print (sum)"
   ]
  },
  {
   "cell_type": "code",
   "execution_count": null,
   "metadata": {},
   "outputs": [],
   "source": []
  }
 ],
 "metadata": {
  "kernelspec": {
   "display_name": "Python 3",
   "language": "python",
   "name": "python3"
  },
  "language_info": {
   "codemirror_mode": {
    "name": "ipython",
    "version": 3
   },
   "file_extension": ".py",
   "mimetype": "text/x-python",
   "name": "python",
   "nbconvert_exporter": "python",
   "pygments_lexer": "ipython3",
   "version": "3.8.5"
  }
 },
 "nbformat": 4,
 "nbformat_minor": 4
}
