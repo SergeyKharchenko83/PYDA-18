{
  "nbformat": 4,
  "nbformat_minor": 0,
  "metadata": {
    "colab": {
      "name": "homework#4.ipynb",
      "provenance": [],
      "collapsed_sections": []
    },
    "kernelspec": {
      "name": "python3",
      "display_name": "Python 3"
    }
  },
  "cells": [
    {
      "cell_type": "code",
      "metadata": {
        "colab": {
          "base_uri": "https://localhost:8080/"
        },
        "id": "U8vf1IThNE3n",
        "outputId": "d67e90f2-e280-41da-9606-bda7348154ee"
      },
      "source": [
        "ids = {'user1': [213, 213, 213, 15, 213],\r\n",
        "'user2': [54, 54, 119, 119, 119],\r\n",
        "'user3': [213, 98, 98, 35]}\r\n",
        "ids_user1 = ids['user1']\r\n",
        "ids_user2 = ids['user2']\r\n",
        "ids_user3 = ids['user3']\r\n",
        "print(set(ids_user1+ids_user2+ids_user3))"
      ],
      "execution_count": null,
      "outputs": [
        {
          "output_type": "stream",
          "text": [
            "{98, 35, 15, 213, 54, 119}\n"
          ],
          "name": "stdout"
        }
      ]
    },
    {
      "cell_type": "code",
      "metadata": {
        "id": "64ZHyN96UAi1",
        "colab": {
          "base_uri": "https://localhost:8080/"
        },
        "outputId": "d012f53c-e962-4223-b670-a9f66e1c0eea"
      },
      "source": [
        "ids = {'user1': [213, 213, 213, 15, 213],\r\n",
        "       'user2': [54, 54, 119, 119, 119],\r\n",
        "       'user3': [213, 98, 98, 35]}\r\n",
        "\r\n",
        "print(set(sum(ids.values(), [])))\r\n",
        " "
      ],
      "execution_count": 18,
      "outputs": [
        {
          "output_type": "stream",
          "text": [
            "{98, 35, 15, 213, 54, 119}\n"
          ],
          "name": "stdout"
        }
      ]
    },
    {
      "cell_type": "code",
      "metadata": {
        "id": "aUz6qtEA4jUg",
        "colab": {
          "base_uri": "https://localhost:8080/"
        },
        "outputId": "2f502d31-07d1-4a5c-d58f-f9774760f59a"
      },
      "source": [
        "queries = [\r\n",
        "    'смотреть сериалы онлайн',\r\n",
        "    'новости спорта',\r\n",
        "    'афиша кино',\r\n",
        "    'курс доллара',\r\n",
        "    'сериалы этим летом',\r\n",
        "    'курс по питону',\r\n",
        "    'сериалы про спорт'\r\n",
        "]\r\n",
        "\r\n",
        "storage = {}\r\n",
        "\r\n",
        "for query in queries:\r\n",
        "    words = query.split()\r\n",
        "\r\n",
        "    if len(words) in storage.keys():\r\n",
        "        storage[len(words)] += 1\r\n",
        "    else:\r\n",
        "        storage.update({\r\n",
        "            len(words): 1\r\n",
        "        })\r\n",
        "\r\n",
        "for key, value in storage.items():\r\n",
        "    percentage = round((value / len(queries)) * 100, 2)\r\n",
        "    print(f'Поисковых запросов из {key} слова: {percentage}% ({value} запр.)')\r\n"
      ],
      "execution_count": null,
      "outputs": [
        {
          "output_type": "stream",
          "text": [
            "Поисковых запросов из 3 слова: 57.14% (4 запр.)\n",
            "Поисковых запросов из 2 слова: 42.86% (3 запр.)\n"
          ],
          "name": "stdout"
        }
      ]
    },
    {
      "cell_type": "code",
      "metadata": {
        "id": "cpSZECGS8kAV",
        "colab": {
          "base_uri": "https://localhost:8080/"
        },
        "outputId": "957ca640-322f-47a8-913c-8978af5b5d9a"
      },
      "source": [
        "results = {\r\n",
        "'vk': {'revenue': 103, 'cost': 98},\r\n",
        "'yandex': {'revenue': 179, 'cost': 153},\r\n",
        "'facebook': {'revenue': 103, 'cost': 110},\r\n",
        "'adwords': {'revenue': 35, 'cost': 34},\r\n",
        "'twitter': {'revenue': 11, 'cost': 24},\r\n",
        "}\r\n",
        "\r\n",
        "for key, value in results.items():\r\n",
        "    value['ROI'] = round(((value['revenue'] / value['cost']) - 1)*100 , 2)\r\n",
        "    print(key, value)\r\n"
      ],
      "execution_count": null,
      "outputs": [
        {
          "output_type": "stream",
          "text": [
            "vk {'revenue': 103, 'cost': 98, 'ROI': 5.1}\n",
            "yandex {'revenue': 179, 'cost': 153, 'ROI': 16.99}\n",
            "facebook {'revenue': 103, 'cost': 110, 'ROI': -6.36}\n",
            "adwords {'revenue': 35, 'cost': 34, 'ROI': 2.94}\n",
            "twitter {'revenue': 11, 'cost': 24, 'ROI': -54.17}\n"
          ],
          "name": "stdout"
        }
      ]
    },
    {
      "cell_type": "code",
      "metadata": {
        "id": "CxAuta-BR25C",
        "colab": {
          "base_uri": "https://localhost:8080/"
        },
        "outputId": "5733dcd3-bac7-4e1c-bcd9-ba2052ebf5d0"
      },
      "source": [
        "stats = {'facebook': 55, 'yandex': 115, 'vk': 120, 'google': 99, 'email': 42, 'ok': 98}\r\n",
        "\r\n",
        "channelmax = max(stats, key = stats.get)\r\n",
        "print(str('Максимальный объем продаж на рекламном канале:'), channelmax)\r\n",
        "\r\n",
        "\r\n",
        "\r\n",
        "\r\n",
        "\r\n"
      ],
      "execution_count": 100,
      "outputs": [
        {
          "output_type": "stream",
          "text": [
            "Максимальный объем продаж на рекламном канале: vk\n"
          ],
          "name": "stdout"
        }
      ]
    },
    {
      "cell_type": "code",
      "metadata": {
        "id": "9VrO2rz6TZiL"
      },
      "source": [
        "\r\n"
      ],
      "execution_count": null,
      "outputs": []
    }
  ]
}