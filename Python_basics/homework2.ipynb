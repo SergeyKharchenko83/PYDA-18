{
 "cells": [
  {
   "cell_type": "code",
   "execution_count": 1,
   "metadata": {},
   "outputs": [
    {
     "name": "stdout",
     "output_type": "stream",
     "text": [
      "Фраза 1 длиннее фразы 2\n"
     ]
    }
   ],
   "source": [
    "phrase_1 = len('Насколько проще было бы писать программы, если бы не заказчики')\n",
    "phrase_2 = len('640Кб должно хватить для любых задач. Билл Гейтс (по легенде)')\n",
    "\n",
    "if phrase_1 > phrase_2:\n",
    "    print('Фраза 1 длиннее фразы 2')"
   ]
  },
  {
   "cell_type": "code",
   "execution_count": 2,
   "metadata": {},
   "outputs": [
    {
     "name": "stdout",
     "output_type": "stream",
     "text": [
      "Фраза 2 длиннее фразы 1\n"
     ]
    }
   ],
   "source": [
    "phrase_1 = len('640Кб должно хватить для любых задач. Билл Гейтс (по легенде)')\n",
    "phrase_2 = len('Насколько проще было бы писать программы, если бы не заказчики')\n",
    "\n",
    "if phrase_1 < phrase_2:\n",
    "    print('Фраза 2 длиннее фразы 1')"
   ]
  },
  {
   "cell_type": "code",
   "execution_count": 3,
   "metadata": {},
   "outputs": [
    {
     "name": "stdout",
     "output_type": "stream",
     "text": [
      "Фразы равной длины\n"
     ]
    }
   ],
   "source": [
    "phrase_1 = len('Насколько проще было бы писать программы, если бы не заказчики')\n",
    "phrase_2 = len('Насколько проще было бы писать программы, если бы не заказчики')\n",
    "\n",
    "if phrase_1  == phrase_2:\n",
    "    print('Фразы равной длины')"
   ]
  },
  {
   "cell_type": "code",
   "execution_count": 4,
   "metadata": {},
   "outputs": [
    {
     "name": "stdout",
     "output_type": "stream",
     "text": [
      "2020\n",
      "Високосный год\n"
     ]
    }
   ],
   "source": [
    "year = int(input())\n",
    "if (year % 4 == 0) and (year % 100 != 0) or (year % 400 == 0):\n",
    "    print('Високосный год')\n",
    "else:\n",
    "    print('Обычный год')"
   ]
  },
  {
   "cell_type": "code",
   "execution_count": 5,
   "metadata": {},
   "outputs": [
    {
     "name": "stdout",
     "output_type": "stream",
     "text": [
      "Введите день рождения :29\n",
      "Введите месяц рождения :декабрь\n",
      "Ваш знак зодиака: Козерог\n"
     ]
    }
   ],
   "source": [
    "userday = int(input(\"Введите день рождения :\"))\n",
    "usermonth = input(\"Введите месяц рождения :\")\n",
    "if (usermonth == \"январь\" and userday >=21) or (usermonth == \"февраль\" and userday <=20):\n",
    "    print('Ваш знак зодиака: Водолей')\n",
    "elif (usermonth == \"февраль\" and userday >= 21) or (usermonth == \"март\" and userday <= 20):\n",
    "        print('Ваш знак зодиака: Рыбы')\n",
    "elif (usermonth == \"март\" and userday >= 21) or (usermonth == \"апрель\" and userday <= 20):\n",
    "        print('Ваш знак зодиака: Овен')\n",
    "elif (usermonth == \"апрель\" and userday >= 21) or (usermonth == \"май\" and userday <= 20):\n",
    "        print('Ваш знак зодиака: Телец')\n",
    "elif (usermonth == \"май\" and userday >= 21) or (usermonth == \"июнь\" and userday <= 21):\n",
    "        print('Ваш знак зодиака: Близнецы')\n",
    "elif (usermonth == \"июнь\" and userday >= 22) or (usermonth == \"июль\" and userday <= 22):\n",
    "        print('Ваш знак зодиака: Рак')\n",
    "elif (usermonth == \"июль\" and userday >= 23) or (usermonth == \"август\" and userday <= 23):\n",
    "        print('Ваш знак зодиака: Лев')\n",
    "elif (usermonth == \"август\" and userday >= 24) or (usermonth == \"сентябрь\" and userday <= 23):\n",
    "        print('Ваш знак зодиака: Дева')\n",
    "elif (usermonth == \"сентябрь\" and userday >= 24) or (usermonth == \"октябрь\" and userday <= 23):\n",
    "        print('Ваш знак зодиака: Весы')\n",
    "elif (usermonth == \"октябрь\" and userday >= 24) or (usermonth == \"ноябрь\" and userday <= 22):\n",
    "        print('Ваш знак зодиака: Скорпион')\n",
    "elif (usermonth == \"ноябрь\" and userday >= 23) or (usermonth == \"декабрь\" and userday <= 21):\n",
    "        print('Ваш знак зодиака: Стрелец')\n",
    "else:\n",
    "    print('Ваш знак зодиака: Козерог')"
   ]
  },
  {
   "cell_type": "code",
   "execution_count": 8,
   "metadata": {},
   "outputs": [
    {
     "name": "stdout",
     "output_type": "stream",
     "text": [
      "Enter width value :40\n",
      "Enter length value :10\n",
      "Enter height value :10\n",
      "Коробка №2\n"
     ]
    }
   ],
   "source": [
    "width = int(input('Enter width value :'))\n",
    "length = int(input('Enter length value :'))\n",
    "height = int(input('Enter height value :'))\n",
    "if (width < 15 and length < 15 and height < 15):\n",
    "    print ('Коробка №1')\n",
    "elif (width > 15 and width < 50) or (length > 15 and length < 50) or (heigh > 15 and heigh < 50):\n",
    "    print ('Коробка №2')\n",
    "elif length > 2000:\n",
    "    print('Упаковка для лыж')\n",
    "else:\n",
    "    print('Стандартная коробка №3')"
   ]
  },
  {
   "cell_type": "code",
   "execution_count": null,
   "metadata": {},
   "outputs": [],
   "source": []
  }
 ],
 "metadata": {
  "kernelspec": {
   "display_name": "Python 3",
   "language": "python",
   "name": "python3"
  },
  "language_info": {
   "codemirror_mode": {
    "name": "ipython",
    "version": 3
   },
   "file_extension": ".py",
   "mimetype": "text/x-python",
   "name": "python",
   "nbconvert_exporter": "python",
   "pygments_lexer": "ipython3",
   "version": "3.8.5"
  }
 },
 "nbformat": 4,
 "nbformat_minor": 4
}
